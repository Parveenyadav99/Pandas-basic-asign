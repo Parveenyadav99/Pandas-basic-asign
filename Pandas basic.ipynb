{
 "cells": [
  {
   "cell_type": "code",
   "execution_count": 1,
   "id": "edc70bed",
   "metadata": {},
   "outputs": [
    {
     "name": "stdout",
     "output_type": "stream",
     "text": [
      "0     4\n",
      "1     8\n",
      "2    15\n",
      "3    16\n",
      "4    23\n",
      "5    42\n",
      "dtype: int64\n"
     ]
    }
   ],
   "source": [
    "# Q1. Create a Pandas Series that contains the following data: 4, 8, 15, 16, 23, and 42. Then, print the series.\n",
    "import pandas as pd\n",
    "\n",
    "# Create the Pandas Series\n",
    "my_series = pd.Series([4, 8, 15, 16, 23, 42])\n",
    "\n",
    "# Print the Series\n",
    "print(my_series)\n"
   ]
  },
  {
   "cell_type": "code",
   "execution_count": 2,
   "id": "7f77fff9",
   "metadata": {},
   "outputs": [
    {
     "name": "stdout",
     "output_type": "stream",
     "text": [
      "0     2\n",
      "1     4\n",
      "2     6\n",
      "3     8\n",
      "4    10\n",
      "5    12\n",
      "6    14\n",
      "7    16\n",
      "8    18\n",
      "9    20\n",
      "dtype: int64\n"
     ]
    }
   ],
   "source": [
    "# Q2. Create a variable of list type containing 10 elements in it, and apply pandas.Series function on the variable print it.\n",
    "import pandas as pd\n",
    "\n",
    "# Create a list with 10 elements\n",
    "my_list = [2, 4, 6, 8, 10, 12, 14, 16, 18, 20]\n",
    "\n",
    "# Convert the list into a Pandas Series\n",
    "my_series = pd.Series(my_list)\n",
    "\n",
    "# Print the Series\n",
    "print(my_series)\n"
   ]
  },
  {
   "cell_type": "code",
   "execution_count": 3,
   "id": "21ab2a55",
   "metadata": {},
   "outputs": [
    {
     "data": {
      "text/plain": [
       "'In Pandas, a DataFrame is a two-dimensional labeled data structure that can store data of different types in columns, similar to a spreadsheet or a SQL table. A DataFrame is essentially a collection of Pandas Series, where each column represents a Series. It provides a powerful and flexible way to manipulate, analyze, and visualize data.\\n\\nOn the other hand, a Pandas Series is a one-dimensional labeled array that can store homogeneous data of any type. It is essentially a single column of data with an index. A Series can be seen as a single column of a DataFrame.\\n\\nHere is an example to illustrate the difference between a DataFrame and a Series:'"
      ]
     },
     "execution_count": 3,
     "metadata": {},
     "output_type": "execute_result"
    }
   ],
   "source": [
    "# Q4. What is ‘DataFrame’ in pandas and how is it different from pandas.series? Explain with an example.\n",
    "'''In Pandas, a DataFrame is a two-dimensional labeled data structure that can store data of different types in columns, similar to a spreadsheet or a SQL table. A DataFrame is essentially a collection of Pandas Series, where each column represents a Series. It provides a powerful and flexible way to manipulate, analyze, and visualize data.\n",
    "\n",
    "On the other hand, a Pandas Series is a one-dimensional labeled array that can store homogeneous data of any type. It is essentially a single column of data with an index. A Series can be seen as a single column of a DataFrame.\n",
    "\n",
    "Here is an example to illustrate the difference between a DataFrame and a Series:'''"
   ]
  },
  {
   "cell_type": "code",
   "execution_count": 4,
   "id": "260a1cce",
   "metadata": {},
   "outputs": [
    {
     "name": "stdout",
     "output_type": "stream",
     "text": [
      "   name  age occupation\n",
      "0  John   25   Engineer\n",
      "1  Jane   30     Doctor\n",
      "2   Jim   35    Teacher\n",
      "3  Joan   40     Lawyer\n"
     ]
    }
   ],
   "source": [
    "import pandas as pd\n",
    "\n",
    "# Create a dictionary containing data for a DataFrame\n",
    "data = {'name': ['John', 'Jane', 'Jim', 'Joan'],\n",
    "        'age': [25, 30, 35, 40],\n",
    "        'occupation': ['Engineer', 'Doctor', 'Teacher', 'Lawyer']}\n",
    "\n",
    "# Create a DataFrame from the dictionary\n",
    "df = pd.DataFrame(data)\n",
    "\n",
    "# Print the DataFrame\n",
    "print(df)\n"
   ]
  },
  {
   "cell_type": "code",
   "execution_count": 5,
   "id": "1a15555e",
   "metadata": {},
   "outputs": [
    {
     "name": "stdout",
     "output_type": "stream",
     "text": [
      "0    25\n",
      "1    30\n",
      "2    35\n",
      "3    40\n",
      "dtype: int64\n"
     ]
    }
   ],
   "source": [
    "import pandas as pd\n",
    "\n",
    "# Create a list of ages\n",
    "ages = [25, 30, 35, 40]\n",
    "\n",
    "# Create a Series from the list\n",
    "age_series = pd.Series(ages)\n",
    "\n",
    "# Print the Series\n",
    "print(age_series)\n"
   ]
  },
  {
   "cell_type": "code",
   "execution_count": 6,
   "id": "5bd96ae2",
   "metadata": {},
   "outputs": [
    {
     "data": {
      "text/plain": [
       "'Pandas provides many functions to manipulate and transform data in a DataFrame. Here are some of the commonly used functions:\\n\\nhead() and tail(): These functions are used to display the first and last few rows of a DataFrame. They are useful to quickly inspect the structure of a DataFrame and the data it contains.'"
      ]
     },
     "execution_count": 6,
     "metadata": {},
     "output_type": "execute_result"
    }
   ],
   "source": [
    "# Q5. What are some common functions you can use to manipulate data in a Pandas DataFrame? Can\n",
    "#   you give an example of when you might use one of these functions?\n",
    "'''Pandas provides many functions to manipulate and transform data in a DataFrame. Here are some of the commonly used functions:\n",
    "\n",
    "head() and tail(): These functions are used to display the first and last few rows of a DataFrame. They are useful to quickly inspect the structure of a DataFrame and the data it contains.'''"
   ]
  },
  {
   "cell_type": "code",
   "execution_count": 7,
   "id": "5f7d2f24",
   "metadata": {},
   "outputs": [
    {
     "name": "stdout",
     "output_type": "stream",
     "text": [
      "   A  B\n",
      "0  1  a\n",
      "1  2  b\n",
      "2  3  c\n",
      "3  4  d\n",
      "4  5  e\n",
      "   A  B\n",
      "0  1  a\n",
      "1  2  b\n",
      "2  3  c\n",
      "3  4  d\n",
      "4  5  e\n"
     ]
    }
   ],
   "source": [
    "import pandas as pd\n",
    "\n",
    "# Create a DataFrame\n",
    "df = pd.DataFrame({'A': [1, 2, 3, 4, 5], 'B': ['a', 'b', 'c', 'd', 'e']})\n",
    "\n",
    "# Display the first few rows of the DataFrame\n",
    "print(df.head())\n",
    "\n",
    "# Display the last few rows of the DataFrame\n",
    "print(df.tail())\n"
   ]
  },
  {
   "cell_type": "code",
   "execution_count": 8,
   "id": "ac2b6d91",
   "metadata": {},
   "outputs": [
    {
     "data": {
      "text/plain": [
       "'describe(): This function provides a summary of the statistics of the numerical columns in the DataFrame, such as count, mean, standard deviation, minimum, maximum, and quartiles.'"
      ]
     },
     "execution_count": 8,
     "metadata": {},
     "output_type": "execute_result"
    }
   ],
   "source": [
    "'''describe(): This function provides a summary of the statistics of the numerical columns in the DataFrame, such as count, mean, standard deviation, minimum, maximum, and quartiles.'''"
   ]
  },
  {
   "cell_type": "code",
   "execution_count": 9,
   "id": "1988ce6a",
   "metadata": {},
   "outputs": [
    {
     "name": "stdout",
     "output_type": "stream",
     "text": [
      "              A\n",
      "count  5.000000\n",
      "mean   3.000000\n",
      "std    1.581139\n",
      "min    1.000000\n",
      "25%    2.000000\n",
      "50%    3.000000\n",
      "75%    4.000000\n",
      "max    5.000000\n"
     ]
    }
   ],
   "source": [
    "import pandas as pd\n",
    "\n",
    "# Create a DataFrame\n",
    "df = pd.DataFrame({'A': [1, 2, 3, 4, 5], 'B': ['a', 'b', 'c', 'd', 'e']})\n",
    "\n",
    "# Get the summary statistics of the DataFrame\n",
    "print(df.describe())\n"
   ]
  },
  {
   "cell_type": "code",
   "execution_count": 10,
   "id": "2eb02ef7",
   "metadata": {},
   "outputs": [
    {
     "data": {
      "text/plain": [
       "'drop(): This function is used to drop one or more columns or rows from the DataFrame. It is useful to remove unnecessary or irrelevant data from the DataFrame.'"
      ]
     },
     "execution_count": 10,
     "metadata": {},
     "output_type": "execute_result"
    }
   ],
   "source": [
    "'''drop(): This function is used to drop one or more columns or rows from the DataFrame. It is useful to remove unnecessary or irrelevant data from the DataFrame.'''"
   ]
  },
  {
   "cell_type": "code",
   "execution_count": 11,
   "id": "1816495f",
   "metadata": {},
   "outputs": [
    {
     "name": "stdout",
     "output_type": "stream",
     "text": [
      "   A\n",
      "0  1\n",
      "1  2\n",
      "2  3\n",
      "3  4\n",
      "4  5\n"
     ]
    }
   ],
   "source": [
    "import pandas as pd\n",
    "\n",
    "# Create a DataFrame\n",
    "df = pd.DataFrame({'A': [1, 2, 3, 4, 5], 'B': ['a', 'b', 'c', 'd', 'e']})\n",
    "\n",
    "# Drop column 'B' from the DataFrame\n",
    "df = df.drop('B', axis=1)\n",
    "\n",
    "# Print the modified DataFrame\n",
    "print(df)\n"
   ]
  },
  {
   "cell_type": "code",
   "execution_count": 12,
   "id": "d35c80f1",
   "metadata": {},
   "outputs": [
    {
     "data": {
      "text/plain": [
       "'groupby(): This function is used to group the data in the DataFrame by one or more columns, and apply an aggregation function to each group. It is useful to summarize or aggregate the data based on specific criteria.'"
      ]
     },
     "execution_count": 12,
     "metadata": {},
     "output_type": "execute_result"
    }
   ],
   "source": [
    "'''groupby(): This function is used to group the data in the DataFrame by one or more columns, and apply an aggregation function to each group. It is useful to summarize or aggregate the data based on specific criteria.'''"
   ]
  },
  {
   "cell_type": "code",
   "execution_count": 13,
   "id": "65fff3c8",
   "metadata": {},
   "outputs": [
    {
     "name": "stdout",
     "output_type": "stream",
     "text": [
      "      B\n",
      "A      \n",
      "1  15.0\n",
      "2  35.0\n",
      "3  50.0\n"
     ]
    }
   ],
   "source": [
    "import pandas as pd\n",
    "\n",
    "# Create a DataFrame\n",
    "df = pd.DataFrame({'A': [1, 1, 2, 2, 3], 'B': [10, 20, 30, 40, 50]})\n",
    "\n",
    "# Group the data by column 'A' and calculate the mean of column 'B'\n",
    "grouped = df.groupby('A').mean()\n",
    "\n",
    "# Print the grouped DataFrame\n",
    "print(grouped)\n"
   ]
  },
  {
   "cell_type": "code",
   "execution_count": 14,
   "id": "3b3a1a11",
   "metadata": {},
   "outputs": [
    {
     "data": {
      "text/plain": [
       "'Both Series and DataFrame are mutable in nature, which means that we can modify their contents after they have been created. However, Panel is immutable, which means that once it has been created, we cannot modify its contents directly. Instead, we can create a new Panel object with the desired modifications. This is because Panel is considered a less important data structure in Pandas compared to Series and DataFrame. As of Pandas version 1.0, the Panel data structure is deprecated and users are encouraged to use other data structures such as MultiIndex DataFrame.'"
      ]
     },
     "execution_count": 14,
     "metadata": {},
     "output_type": "execute_result"
    }
   ],
   "source": [
    "# Q6. Which of the following is mutable in nature Series, DataFrame, Panel?\n",
    "'''Both Series and DataFrame are mutable in nature, which means that we can modify their contents after they have been created. However, Panel is immutable, which means that once it has been created, we cannot modify its contents directly. Instead, we can create a new Panel object with the desired modifications. This is because Panel is considered a less important data structure in Pandas compared to Series and DataFrame. As of Pandas version 1.0, the Panel data structure is deprecated and users are encouraged to use other data structures such as MultiIndex DataFrame.'''"
   ]
  },
  {
   "cell_type": "code",
   "execution_count": 16,
   "id": "cebe187a",
   "metadata": {},
   "outputs": [
    {
     "name": "stdout",
     "output_type": "stream",
     "text": [
      "0    10\n",
      "1    20\n",
      "2    30\n",
      "3    40\n",
      "4    50\n",
      "dtype: int64\n",
      "0    10\n",
      "1    25\n",
      "2    30\n",
      "3    40\n",
      "4    50\n",
      "dtype: int64\n"
     ]
    }
   ],
   "source": [
    "import pandas as pd\n",
    "\n",
    "data = [10, 20, 30, 40, 50]\n",
    "series = pd.Series(data)\n",
    "print(series)\n",
    "\n",
    "\n",
    "\n",
    "# Modify the Series\n",
    "series[1] = 25\n",
    "print(series)\n",
    "\n"
   ]
  },
  {
   "cell_type": "code",
   "execution_count": 17,
   "id": "60c9c18f",
   "metadata": {},
   "outputs": [
    {
     "name": "stdout",
     "output_type": "stream",
     "text": [
      "   Name  Age Occupation\n",
      "0  John   25   Engineer\n",
      "1  Jane   30     Doctor\n",
      "2   Jim   35    Teacher\n",
      "3  Joan   40     Lawyer\n",
      "     Name  Age Occupation  Gender\n",
      "0  Johnny   25   Engineer    Male\n",
      "1    Jane   30     Doctor  Female\n",
      "2     Jim   35    Teacher    Male\n",
      "3    Joan   40     Lawyer  Female\n"
     ]
    }
   ],
   "source": [
    "# Example for DataFrame:\n",
    "\n",
    "import pandas as pd\n",
    "\n",
    "data = {'Name': ['John', 'Jane', 'Jim', 'Joan'],\n",
    "        'Age': [25, 30, 35, 40],\n",
    "        'Occupation': ['Engineer', 'Doctor', 'Teacher', 'Lawyer']}\n",
    "df = pd.DataFrame(data)\n",
    "print(df)\n",
    "\n",
    "\n",
    "# Modify the DataFrame\n",
    "df.loc[0, 'Name'] = 'Johnny'\n",
    "df['Gender'] = ['Male', 'Female', 'Male', 'Female']\n",
    "print(df)\n",
    "\n"
   ]
  },
  {
   "cell_type": "code",
   "execution_count": 18,
   "id": "98050de8",
   "metadata": {},
   "outputs": [
    {
     "data": {
      "text/plain": [
       "\"We can create a Pandas DataFrame using multiple Series. To do this, we can pass a dictionary of Series to the pd.DataFrame() function, where each key in the dictionary represents the column name and each value is a Pandas Series representing the data for that column.\\n\\nHere's an example:\""
      ]
     },
     "execution_count": 18,
     "metadata": {},
     "output_type": "execute_result"
    }
   ],
   "source": [
    "# Q7. Create a DataFrame using multiple Series. Explain with an example.\n",
    "'''We can create a Pandas DataFrame using multiple Series. To do this, we can pass a dictionary of Series to the pd.DataFrame() function, where each key in the dictionary represents the column name and each value is a Pandas Series representing the data for that column.\n",
    "\n",
    "Here's an example:'''"
   ]
  },
  {
   "cell_type": "code",
   "execution_count": 19,
   "id": "1886db88",
   "metadata": {},
   "outputs": [
    {
     "name": "stdout",
     "output_type": "stream",
     "text": [
      "   Name  Age Occupation\n",
      "0  John   25   Engineer\n",
      "1  Jane   30     Doctor\n",
      "2   Jim   35    Teacher\n",
      "3  Joan   40     Lawyer\n"
     ]
    }
   ],
   "source": [
    "import pandas as pd\n",
    "\n",
    "# Create Series for each column of the DataFrame\n",
    "names = pd.Series(['John', 'Jane', 'Jim', 'Joan'])\n",
    "ages = pd.Series([25, 30, 35, 40])\n",
    "occupations = pd.Series(['Engineer', 'Doctor', 'Teacher', 'Lawyer'])\n",
    "\n",
    "# Combine the Series into a DataFrame\n",
    "data = {'Name': names, 'Age': ages, 'Occupation': occupations}\n",
    "df = pd.DataFrame(data)\n",
    "\n",
    "# Print the DataFrame\n",
    "print(df)\n"
   ]
  },
  {
   "cell_type": "code",
   "execution_count": 22,
   "id": "d81d9310",
   "metadata": {},
   "outputs": [
    {
     "data": {
      "text/plain": [
       "'Name\\nAlice\\nBob\\nClaire\\n\\nAge\\n25\\n30\\n27\\n\\nGender\\nFemale\\nMale\\nFemale'"
      ]
     },
     "execution_count": 22,
     "metadata": {},
     "output_type": "execute_result"
    }
   ],
   "source": [
    "# Q3. Create a Pandas DataFrame that contains the following data:\n",
    "\n",
    "# Then, print the DataFrame.\n",
    "\n",
    "'''Name\n",
    "Alice\n",
    "Bob\n",
    "Claire\n",
    "\n",
    "Age\n",
    "25\n",
    "30\n",
    "27\n",
    "\n",
    "Gender\n",
    "Female\n",
    "Male\n",
    "Female'''"
   ]
  },
  {
   "cell_type": "code",
   "execution_count": 20,
   "id": "3d891b9b",
   "metadata": {},
   "outputs": [
    {
     "data": {
      "text/plain": [
       "\"To create a Pandas DataFrame with the given data, we can create three Pandas Series, one for each column of the DataFrame, and then combine them into a DataFrame using the pd.concat() function. Here's an example code:\""
      ]
     },
     "execution_count": 20,
     "metadata": {},
     "output_type": "execute_result"
    }
   ],
   "source": [
    "'''To create a Pandas DataFrame with the given data, we can create three Pandas Series, one for each column of the DataFrame, and then combine them into a DataFrame using the pd.concat() function. Here's an example code:'''"
   ]
  },
  {
   "cell_type": "code",
   "execution_count": 21,
   "id": "eb446c88",
   "metadata": {},
   "outputs": [
    {
     "name": "stdout",
     "output_type": "stream",
     "text": [
      "     Name  Age  Gender\n",
      "0   Alice   25  Female\n",
      "1     Bob   30    Male\n",
      "2  Claire   27  Female\n"
     ]
    }
   ],
   "source": [
    "import pandas as pd\n",
    "\n",
    "# Create Series for each column of the DataFrame\n",
    "names = pd.Series(['Alice', 'Bob', 'Claire'])\n",
    "ages = pd.Series([25, 30, 27])\n",
    "genders = pd.Series(['Female', 'Male', 'Female'])\n",
    "\n",
    "# Combine the Series into a DataFrame\n",
    "df = pd.concat([names, ages, genders], axis=1)\n",
    "df.columns = ['Name', 'Age', 'Gender']\n",
    "\n",
    "# Print the DataFrame\n",
    "print(df)\n"
   ]
  },
  {
   "cell_type": "code",
   "execution_count": null,
   "id": "78afc41f",
   "metadata": {},
   "outputs": [],
   "source": []
  }
 ],
 "metadata": {
  "kernelspec": {
   "display_name": "Python 3 (ipykernel)",
   "language": "python",
   "name": "python3"
  },
  "language_info": {
   "codemirror_mode": {
    "name": "ipython",
    "version": 3
   },
   "file_extension": ".py",
   "mimetype": "text/x-python",
   "name": "python",
   "nbconvert_exporter": "python",
   "pygments_lexer": "ipython3",
   "version": "3.9.7"
  }
 },
 "nbformat": 4,
 "nbformat_minor": 5
}
